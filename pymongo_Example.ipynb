{
 "cells": [
  {
   "cell_type": "code",
   "execution_count": 1,
   "id": "0fcfccc9",
   "metadata": {},
   "outputs": [
    {
     "name": "stdout",
     "output_type": "stream",
     "text": [
      "Connected successfully!!!\n"
     ]
    }
   ],
   "source": [
    "# importing pymongo\n",
    "from pymongo import MongoClient\n",
    "\n",
    "# establing connection\n",
    "try:\n",
    "    connect = MongoClient(\"mongodb://localhost:27017/\",\n",
    "                         username='root',\n",
    "                         password='password',)\n",
    "    print(\"Connected successfully!!!\")\n",
    "except:\n",
    "    print(\"Could not connect to MongoDB\")\n",
    "\n",
    "# connecting or switching to the database\n",
    "db = connect.demoDB\n",
    "\n",
    "# creating or switching to demoCollection\n",
    "collection = db.demoCollection\n",
    "\n",
    "\n",
    "\n",
    "\n",
    "\n"
   ]
  },
  {
   "cell_type": "code",
   "execution_count": 2,
   "id": "51390483",
   "metadata": {},
   "outputs": [
    {
     "data": {
      "text/plain": [
       "<pymongo.results.InsertOneResult at 0x1f59a2c7310>"
      ]
     },
     "execution_count": 2,
     "metadata": {},
     "output_type": "execute_result"
    }
   ],
   "source": [
    "# first document\n",
    "document1 = {\n",
    "        \"tag\":\"John\",\n",
    "        \"age\":24,\n",
    "        \"location\":\"New York\"\n",
    "        }\n",
    "#second document\n",
    "document2 = {\n",
    "        \"helloWorld\":\"Sam\",\n",
    "        \"age\":21,\n",
    "        \"location\":\"Chicago\"\n",
    "        }\n",
    "\n",
    "# Inserting both document one by one\n",
    "collection.insert_one(document1)\n",
    "collection.insert_one(document2)"
   ]
  },
  {
   "cell_type": "code",
   "execution_count": 3,
   "id": "c4935331",
   "metadata": {},
   "outputs": [
    {
     "name": "stdout",
     "output_type": "stream",
     "text": [
      "{'_id': ObjectId('626520a06c26fbf4d46539a1'), 'tag': 'John', 'age': 24, 'location': 'New York'}\n"
     ]
    }
   ],
   "source": [
    "# Printing the data inserted\n",
    "query={'tag': 'John'}\n",
    "cursor = collection.find(query)\n",
    "for record in cursor:\n",
    "    print(record)"
   ]
  },
  {
   "cell_type": "code",
   "execution_count": null,
   "id": "08735794",
   "metadata": {},
   "outputs": [],
   "source": []
  }
 ],
 "metadata": {
  "kernelspec": {
   "display_name": "Python 3 (ipykernel)",
   "language": "python",
   "name": "python3"
  },
  "language_info": {
   "codemirror_mode": {
    "name": "ipython",
    "version": 3
   },
   "file_extension": ".py",
   "mimetype": "text/x-python",
   "name": "python",
   "nbconvert_exporter": "python",
   "pygments_lexer": "ipython3",
   "version": "3.10.4"
  }
 },
 "nbformat": 4,
 "nbformat_minor": 5
}
